{
 "cells": [
  {
   "cell_type": "markdown",
   "metadata": {},
   "source": [
    "# Steam Data Analysis with Python"
   ]
  },
  {
   "cell_type": "markdown",
   "metadata": {},
   "source": [
    "## Introduction"
   ]
  },
  {
   "cell_type": "markdown",
   "metadata": {},
   "source": [
    "Many of the commonly heard of games come from big AAA developers, who have the resources to heavily fund the development and marketing of their titles. These games are often jam-packed with action, high quality graphics, and a fast and rewarding playstyle. It is for this reason that games like Stardew Valley stand out so much from the crowd. Stardew Valley is a popular independent, or indie, game that was developed mostly by a single person over the course of 4 years. The game managed to reach critical and commercial success with over 10 million copies sold, while maintaining the exact opposite playstyle compared to that of AAA games. At its core, Stardew Valley is a slow paced farming simulator with RPG elements and pixel art graphics.\n",
    "\n",
    "So how likely is this level of success for an indie game? Is it rare to find indie titles among the top selling games on Steam? How do ratings for indie games compare to that of AAA games? Are indie games becoming more popular in the industry, and why might that be the case? This project aims to answer all these questions and more, in order to gain a better understanding of the role independent developers play in the gaming industry.\n",
    "\n",
    "The information used in this project was collected via web scraping Steam, which is permitted by their robots.txt file. We will be analyzing data regarding the top 100 selling games, based on gross revenue, on Steam for 2017, 2018, and 2019. The data was collected on 2/10/20 from Steam's end-of-year list of top selling games for 2017, 2018, and 2019:\n",
    "* https://store.steampowered.com/sale/2017_best_sellers/\n",
    "* https://store.steampowered.com/sale/winter2018bestof/\n",
    "* https://store.steampowered.com/sale/2019_top_sellers/"
   ]
  },
  {
   "cell_type": "markdown",
   "metadata": {},
   "source": [
    "## Importing Libraries and Setting Up"
   ]
  },
  {
   "cell_type": "markdown",
   "metadata": {},
   "source": [
    "The `selenium`, `requests`, `time`, `bs4`, `re`, and `pandas` libraries are needed to properly scrape and clean the data. The `numpy` and `scipy` libraries are used for analysis, while `matplotlib` and `seaborn` are used for visualization."
   ]
  },
  {
   "cell_type": "code",
   "execution_count": 1,
   "metadata": {},
   "outputs": [],
   "source": [
    "from selenium import webdriver\n",
    "import requests\n",
    "import time\n",
    "from bs4 import BeautifulSoup\n",
    "import re\n",
    "import pandas as pd\n",
    "import numpy as np\n",
    "import matplotlib.pyplot as plt\n",
    "import seaborn as sns\n",
    "from scipy import stats"
   ]
  },
  {
   "cell_type": "markdown",
   "metadata": {},
   "source": [
    "After importing the necessary modules, we can begin to scrape the data into a Pandas DataFrame."
   ]
  },
  {
   "cell_type": "code",
   "execution_count": 2,
   "metadata": {
    "scrolled": true
   },
   "outputs": [],
   "source": [
    "urls = {2017: 'https://store.steampowered.com/sale/2017_best_sellers/',\n",
    "        2018: 'https://store.steampowered.com/sale/winter2018bestof/',\n",
    "        2019: 'https://store.steampowered.com/sale/2019_top_sellers'}\n",
    "lst = []\n",
    "\n",
    "for i in range(2017, 2020):\n",
    "    # Selenium is used here since these pages use Javascript\n",
    "    driver = webdriver.Chrome('C:\\Chromedriver\\chromedriver.exe')\n",
    "    driver.get(urls[i])\n",
    "    soup = BeautifulSoup(driver.page_source, 'html.parser')\n",
    "    driver.quit()\n",
    "    time.sleep(1)\n",
    "    \n",
    "    columns = ['year', 'ranking', 'title', 'genres', 'tags', 'rating', 'num_reviews']\n",
    "    year = i\n",
    "    table = []\n",
    "    \n",
    "    divs = soup.find_all('div',\\\n",
    "                         attrs={'class': 'partnersaledisplay_SaleSection_1cOoC eventbbcodeparser_SaleSectionCtn_39HWX'})\n",
    "    # Try and except statements necessary due to different HTML for different years\n",
    "    if divs == []:\n",
    "        divs = soup.find_all('div', attrs={'class': 'sale_tier'})\n",
    "    for div in divs:\n",
    "        try:\n",
    "            ranking = div.find(attrs={'div', 'partnereventshared_SaleSectionHeader_2WMiQ'}).text\n",
    "        except AttributeError:\n",
    "            ranking = div.h2.text\n",
    "            \n",
    "        if ranking != '':\n",
    "            games = div.find_all('a')\n",
    "            for game in games:\n",
    "                game_url = game['href']\n",
    "                # Cookies necessary to bypass age verification\n",
    "                source = requests.get(game_url, cookies={'birthtime': '691574401'}).content\n",
    "                game_page = BeautifulSoup(source, 'html.parser')\n",
    "                time.sleep(1)\n",
    "\n",
    "                title = game_page.find('div', attrs={'class': 'apphub_AppName'}).text\n",
    "\n",
    "                genres = []\n",
    "                genre_links = game_page.find('div',\\\n",
    "                                        attrs={'class': 'block responsive_apppage_details_left game_details underlined_links'})\\\n",
    "                                       .find('div', attrs={'class': 'details_block'}).find_all('a')\n",
    "                for genre_link in genre_links:\n",
    "                    if 'genre' in str(genre_link):\n",
    "                        genres.append(genre_link.string)\n",
    "\n",
    "                tags = []\n",
    "                tag_links = game_page.find('div', attrs={'class': 'glance_tags popular_tags'}).find_all('a')\n",
    "                for tag_link in tag_links:\n",
    "                    tags.append(tag_link.string.strip())\n",
    "\n",
    "                try:\n",
    "                    rating_num_reviews = game_page.find('div', attrs={'itemprop': 'aggregateRating'})\\\n",
    "                                                  .find('span',attrs={'class': 'nonresponsive_hidden responsive_reviewdesc'})\\\n",
    "                                                  .get_text('|')\n",
    "                    rating_num_reviews_split = re.split('(\\d+)', rating_num_reviews.strip().replace(',', ''))\n",
    "                    rating = int(rating_num_reviews_split[1])\n",
    "                    num_reviews = int(rating_num_reviews_split[3])\n",
    "                except AttributeError:\n",
    "                    rating = 0\n",
    "                    num_reviews = 0\n",
    "\n",
    "                row = [year, ranking, title, genres, tags, rating, num_reviews]\n",
    "                table.append(row)\n",
    "                \n",
    "    lst.append(pd.DataFrame(table, columns=columns))\n",
    "    \n",
    "df = pd.concat(lst).reset_index(drop=True)"
   ]
  },
  {
   "cell_type": "markdown",
   "metadata": {},
   "source": [
    "## Overview of the Data"
   ]
  },
  {
   "cell_type": "markdown",
   "metadata": {},
   "source": [
    "Now that we have the raw data, we can now begin modifying and analyzing the data. First, we will create a column `is_indie` that is `True` if \"Indie\" is marked as a genre or tag for that game, and `False` otherwise. This will allow us to quickly select for indie games during our analysis."
   ]
  },
  {
   "cell_type": "code",
   "execution_count": 3,
   "metadata": {
    "scrolled": false
   },
   "outputs": [
    {
     "data": {
      "text/html": [
       "<div>\n",
       "<style scoped>\n",
       "    .dataframe tbody tr th:only-of-type {\n",
       "        vertical-align: middle;\n",
       "    }\n",
       "\n",
       "    .dataframe tbody tr th {\n",
       "        vertical-align: top;\n",
       "    }\n",
       "\n",
       "    .dataframe thead th {\n",
       "        text-align: right;\n",
       "    }\n",
       "</style>\n",
       "<table border=\"1\" class=\"dataframe\">\n",
       "  <thead>\n",
       "    <tr style=\"text-align: right;\">\n",
       "      <th></th>\n",
       "      <th>year</th>\n",
       "      <th>ranking</th>\n",
       "      <th>title</th>\n",
       "      <th>genres</th>\n",
       "      <th>tags</th>\n",
       "      <th>rating</th>\n",
       "      <th>num_reviews</th>\n",
       "      <th>is_indie</th>\n",
       "    </tr>\n",
       "  </thead>\n",
       "  <tbody>\n",
       "    <tr>\n",
       "      <th>0</th>\n",
       "      <td>2017</td>\n",
       "      <td>Platinum</td>\n",
       "      <td>Tom Clancy's Rainbow Six® Siege</td>\n",
       "      <td>[Action]</td>\n",
       "      <td>[Hero Shooter, FPS, Multiplayer, Tactical, Sho...</td>\n",
       "      <td>87</td>\n",
       "      <td>470943</td>\n",
       "      <td>False</td>\n",
       "    </tr>\n",
       "    <tr>\n",
       "      <th>1</th>\n",
       "      <td>2017</td>\n",
       "      <td>Platinum</td>\n",
       "      <td>Rocket League®</td>\n",
       "      <td>[Action, Indie, Racing, Sports]</td>\n",
       "      <td>[Multiplayer, Soccer, Competitive, Sports, Rac...</td>\n",
       "      <td>92</td>\n",
       "      <td>272406</td>\n",
       "      <td>True</td>\n",
       "    </tr>\n",
       "    <tr>\n",
       "      <th>2</th>\n",
       "      <td>2017</td>\n",
       "      <td>Platinum</td>\n",
       "      <td>Divinity: Original Sin 2 - Definitive Edition</td>\n",
       "      <td>[Adventure, RPG, Strategy]</td>\n",
       "      <td>[RPG, Story Rich, Turn-Based, Co-op, Fantasy, ...</td>\n",
       "      <td>95</td>\n",
       "      <td>63927</td>\n",
       "      <td>True</td>\n",
       "    </tr>\n",
       "    <tr>\n",
       "      <th>3</th>\n",
       "      <td>2017</td>\n",
       "      <td>Platinum</td>\n",
       "      <td>ARK: Survival Evolved</td>\n",
       "      <td>[Action, Adventure, Indie, Massively Multiplay...</td>\n",
       "      <td>[Open World Survival Craft, Survival, Open Wor...</td>\n",
       "      <td>74</td>\n",
       "      <td>221606</td>\n",
       "      <td>True</td>\n",
       "    </tr>\n",
       "    <tr>\n",
       "      <th>4</th>\n",
       "      <td>2017</td>\n",
       "      <td>Platinum</td>\n",
       "      <td>Warframe</td>\n",
       "      <td>[Action, Free to Play]</td>\n",
       "      <td>[Looter Shooter, Free to Play, Action, Co-op, ...</td>\n",
       "      <td>92</td>\n",
       "      <td>330031</td>\n",
       "      <td>False</td>\n",
       "    </tr>\n",
       "    <tr>\n",
       "      <th>...</th>\n",
       "      <td>...</td>\n",
       "      <td>...</td>\n",
       "      <td>...</td>\n",
       "      <td>...</td>\n",
       "      <td>...</td>\n",
       "      <td>...</td>\n",
       "      <td>...</td>\n",
       "      <td>...</td>\n",
       "    </tr>\n",
       "    <tr>\n",
       "      <th>294</th>\n",
       "      <td>2019</td>\n",
       "      <td>Bronze</td>\n",
       "      <td>Frostpunk</td>\n",
       "      <td>[Simulation, Strategy]</td>\n",
       "      <td>[Colony Sim, City Builder, Survival, Strategy,...</td>\n",
       "      <td>89</td>\n",
       "      <td>35122</td>\n",
       "      <td>False</td>\n",
       "    </tr>\n",
       "    <tr>\n",
       "      <th>295</th>\n",
       "      <td>2019</td>\n",
       "      <td>Bronze</td>\n",
       "      <td>Kingdom Come: Deliverance</td>\n",
       "      <td>[Action, Adventure, RPG]</td>\n",
       "      <td>[Medieval, RPG, Open World, Realistic, Singlep...</td>\n",
       "      <td>78</td>\n",
       "      <td>38009</td>\n",
       "      <td>True</td>\n",
       "    </tr>\n",
       "    <tr>\n",
       "      <th>296</th>\n",
       "      <td>2019</td>\n",
       "      <td>Bronze</td>\n",
       "      <td>Outward</td>\n",
       "      <td>[RPG]</td>\n",
       "      <td>[RPG, Open World, Survival, Co-op, Fantasy, On...</td>\n",
       "      <td>75</td>\n",
       "      <td>7209</td>\n",
       "      <td>False</td>\n",
       "    </tr>\n",
       "    <tr>\n",
       "      <th>297</th>\n",
       "      <td>2019</td>\n",
       "      <td>Bronze</td>\n",
       "      <td>Subnautica: Below Zero</td>\n",
       "      <td>[Adventure, Indie, Early Access]</td>\n",
       "      <td>[Open World Survival Craft, Survival, Underwat...</td>\n",
       "      <td>93</td>\n",
       "      <td>13395</td>\n",
       "      <td>True</td>\n",
       "    </tr>\n",
       "    <tr>\n",
       "      <th>298</th>\n",
       "      <td>2019</td>\n",
       "      <td>Bronze</td>\n",
       "      <td>NBA 2K20</td>\n",
       "      <td>[Simulation, Sports]</td>\n",
       "      <td>[Basketball, Sports, Simulation, Multiplayer, ...</td>\n",
       "      <td>41</td>\n",
       "      <td>13016</td>\n",
       "      <td>False</td>\n",
       "    </tr>\n",
       "  </tbody>\n",
       "</table>\n",
       "<p>299 rows × 8 columns</p>\n",
       "</div>"
      ],
      "text/plain": [
       "     year   ranking                                          title  \\\n",
       "0    2017  Platinum                Tom Clancy's Rainbow Six® Siege   \n",
       "1    2017  Platinum                                 Rocket League®   \n",
       "2    2017  Platinum  Divinity: Original Sin 2 - Definitive Edition   \n",
       "3    2017  Platinum                          ARK: Survival Evolved   \n",
       "4    2017  Platinum                                       Warframe   \n",
       "..    ...       ...                                            ...   \n",
       "294  2019    Bronze                                      Frostpunk   \n",
       "295  2019    Bronze                      Kingdom Come: Deliverance   \n",
       "296  2019    Bronze                                        Outward   \n",
       "297  2019    Bronze                         Subnautica: Below Zero   \n",
       "298  2019    Bronze                                       NBA 2K20   \n",
       "\n",
       "                                                genres  \\\n",
       "0                                             [Action]   \n",
       "1                      [Action, Indie, Racing, Sports]   \n",
       "2                           [Adventure, RPG, Strategy]   \n",
       "3    [Action, Adventure, Indie, Massively Multiplay...   \n",
       "4                               [Action, Free to Play]   \n",
       "..                                                 ...   \n",
       "294                             [Simulation, Strategy]   \n",
       "295                           [Action, Adventure, RPG]   \n",
       "296                                              [RPG]   \n",
       "297                   [Adventure, Indie, Early Access]   \n",
       "298                               [Simulation, Sports]   \n",
       "\n",
       "                                                  tags  rating  num_reviews  \\\n",
       "0    [Hero Shooter, FPS, Multiplayer, Tactical, Sho...      87       470943   \n",
       "1    [Multiplayer, Soccer, Competitive, Sports, Rac...      92       272406   \n",
       "2    [RPG, Story Rich, Turn-Based, Co-op, Fantasy, ...      95        63927   \n",
       "3    [Open World Survival Craft, Survival, Open Wor...      74       221606   \n",
       "4    [Looter Shooter, Free to Play, Action, Co-op, ...      92       330031   \n",
       "..                                                 ...     ...          ...   \n",
       "294  [Colony Sim, City Builder, Survival, Strategy,...      89        35122   \n",
       "295  [Medieval, RPG, Open World, Realistic, Singlep...      78        38009   \n",
       "296  [RPG, Open World, Survival, Co-op, Fantasy, On...      75         7209   \n",
       "297  [Open World Survival Craft, Survival, Underwat...      93        13395   \n",
       "298  [Basketball, Sports, Simulation, Multiplayer, ...      41        13016   \n",
       "\n",
       "     is_indie  \n",
       "0       False  \n",
       "1        True  \n",
       "2        True  \n",
       "3        True  \n",
       "4       False  \n",
       "..        ...  \n",
       "294     False  \n",
       "295      True  \n",
       "296     False  \n",
       "297      True  \n",
       "298     False  \n",
       "\n",
       "[299 rows x 8 columns]"
      ]
     },
     "execution_count": 3,
     "metadata": {},
     "output_type": "execute_result"
    }
   ],
   "source": [
    "df['is_indie'] = df.apply(lambda row: True if ('Indie' in row['genres'] or 'Indie' in row['tags']) else False, axis=1)\n",
    "df"
   ]
  },
  {
   "cell_type": "markdown",
   "metadata": {},
   "source": [
    "We should note here that the ratings and number of reviews for each title represents only their current value as of the date of data collection, they do not represent the values as they were in 2017, 2018, or 2019. This is because the values were scraped from the official game store pages, and past data is not readily available from Steam."
   ]
  },
  {
   "cell_type": "markdown",
   "metadata": {},
   "source": [
    "## Deverloper Composition of Top Selling Games"
   ]
  },
  {
   "cell_type": "markdown",
   "metadata": {},
   "source": [
    "Let's determine just how uncommon it is for an indie game to be represented as one of Steam's top selling games. Due to their increased funding, we expect AAA developers to vastly outnumber indie developers when it comes to top selling games. We will use data from all three years and determine how many total games are made by indie developers versus AAA developers."
   ]
  },
  {
   "cell_type": "code",
   "execution_count": 4,
   "metadata": {},
   "outputs": [
    {
     "data": {
      "text/html": [
       "<div>\n",
       "<style scoped>\n",
       "    .dataframe tbody tr th:only-of-type {\n",
       "        vertical-align: middle;\n",
       "    }\n",
       "\n",
       "    .dataframe tbody tr th {\n",
       "        vertical-align: top;\n",
       "    }\n",
       "\n",
       "    .dataframe thead th {\n",
       "        text-align: right;\n",
       "    }\n",
       "</style>\n",
       "<table border=\"1\" class=\"dataframe\">\n",
       "  <thead>\n",
       "    <tr style=\"text-align: right;\">\n",
       "      <th></th>\n",
       "      <th>is_indie</th>\n",
       "      <th>counts</th>\n",
       "    </tr>\n",
       "  </thead>\n",
       "  <tbody>\n",
       "    <tr>\n",
       "      <th>0</th>\n",
       "      <td>False</td>\n",
       "      <td>215</td>\n",
       "    </tr>\n",
       "    <tr>\n",
       "      <th>1</th>\n",
       "      <td>True</td>\n",
       "      <td>84</td>\n",
       "    </tr>\n",
       "  </tbody>\n",
       "</table>\n",
       "</div>"
      ],
      "text/plain": [
       "   is_indie  counts\n",
       "0     False     215\n",
       "1      True      84"
      ]
     },
     "execution_count": 4,
     "metadata": {},
     "output_type": "execute_result"
    }
   ],
   "source": [
    "df.is_indie.value_counts().reset_index().rename(columns={'index': 'is_indie', 'is_indie': 'counts'})"
   ]
  },
  {
   "cell_type": "code",
   "execution_count": 5,
   "metadata": {},
   "outputs": [
    {
     "data": {
      "image/png": "[encoded data removed]",
      "text/plain": [
       "<Figure size 432x288 with 1 Axes>"
      ]
     },
     "metadata": {},
     "output_type": "display_data"
    }
   ],
   "source": [
    "sns.set_palette('Paired')\n",
    "fig, ax = plt.subplots()\n",
    "ax.pie(df.is_indie.value_counts(), autopct='%0.1f%%', pctdistance=1.2, shadow=True, explode=(0, 0.1))\n",
    "ax.legend(['AAA Developer', 'Indie Developer'])\n",
    "ax.set_title('Developers for 2017-2019 Top Selling Games on Steam')\n",
    "ax.axis('equal')\n",
    "plt.show()"
   ]
  },
  {
   "cell_type": "markdown",
   "metadata": {},
   "source": [
    "Indie games actually cover 28.1% of the top market, which is quite a significant chunk of the pie! Despite their more limited resources, indie developers seem quite capable of producing top selling games."
   ]
  },
  {
   "cell_type": "markdown",
   "metadata": {},
   "source": [
    "## Analysis of Ratings"
   ]
  },
  {
   "cell_type": "markdown",
   "metadata": {},
   "source": [
    "Next we will compare the ratings of top selling indie games to that of AAA games to see if one is typically more well-received than the other. Just like before, we will be using data from all three years that Steam has provided."
   ]
  },
  {
   "cell_type": "code",
   "execution_count": 6,
   "metadata": {},
   "outputs": [
    {
     "data": {
      "text/html": [
       "<div>\n",
       "<style scoped>\n",
       "    .dataframe tbody tr th:only-of-type {\n",
       "        vertical-align: middle;\n",
       "    }\n",
       "\n",
       "    .dataframe tbody tr th {\n",
       "        vertical-align: top;\n",
       "    }\n",
       "\n",
       "    .dataframe thead th {\n",
       "        text-align: right;\n",
       "    }\n",
       "</style>\n",
       "<table border=\"1\" class=\"dataframe\">\n",
       "  <thead>\n",
       "    <tr style=\"text-align: right;\">\n",
       "      <th></th>\n",
       "      <th>is_indie</th>\n",
       "      <th>rating</th>\n",
       "    </tr>\n",
       "  </thead>\n",
       "  <tbody>\n",
       "    <tr>\n",
       "      <th>0</th>\n",
       "      <td>False</td>\n",
       "      <td>80.134884</td>\n",
       "    </tr>\n",
       "    <tr>\n",
       "      <th>1</th>\n",
       "      <td>True</td>\n",
       "      <td>89.869048</td>\n",
       "    </tr>\n",
       "  </tbody>\n",
       "</table>\n",
       "</div>"
      ],
      "text/plain": [
       "   is_indie     rating\n",
       "0     False  80.134884\n",
       "1      True  89.869048"
      ]
     },
     "execution_count": 6,
     "metadata": {},
     "output_type": "execute_result"
    }
   ],
   "source": [
    "df.groupby('is_indie').rating.mean().reset_index()"
   ]
  },
  {
   "cell_type": "code",
   "execution_count": 7,
   "metadata": {},
   "outputs": [
    {
     "data": {
      "image/png": "[encoded data removed]",
      "text/plain": [
       "<Figure size 432x288 with 1 Axes>"
      ]
     },
     "metadata": {
      "needs_background": "light"
     },
     "output_type": "display_data"
    }
   ],
   "source": [
    "fig, ax = plt.subplots()\n",
    "sns.barplot(data=df, x='is_indie', y='rating')\n",
    "ax.set_xlabel('Developer')\n",
    "ax.set_xticklabels(['AAA', 'Indie'])\n",
    "ax.set_yticks([0, 20, 40, 60, 80, 100])\n",
    "ax.set_ylabel('Rating')\n",
    "ax.set_title('Average Game Ratings for 2017-2019 Top Selling Games on Steam')\n",
    "plt.show()"
   ]
  },
  {
   "cell_type": "code",
   "execution_count": 8,
   "metadata": {},
   "outputs": [
    {
     "name": "stdout",
     "output_type": "stream",
     "text": [
      "The standard deviation of ratings for indie games is 8.543696871719387\n",
      "The standard deviation of ratings for AAA games is 14.065476185871432\n"
     ]
    }
   ],
   "source": [
    "indie_games = df[df.is_indie == True]\n",
    "AAA_games = df[df.is_indie == False]\n",
    "\n",
    "print(\"The standard deviation of ratings for indie games is {0}\".format(np.std(indie_games.rating)))\n",
    "print(\"The standard deviation of ratings for AAA games is {0}\".format(np.std(AAA_games.rating)))"
   ]
  },
  {
   "cell_type": "markdown",
   "metadata": {},
   "source": [
    "Indie games are rated almost a full 10% higher than AAA games on average! They also have a smaller standard deviation, showing less variation in ratings.\n",
    "\n",
    "Now that we know indie games are typically rated higher than AAA games, let's see how the \"indie\" genre is rated compared to other genres such as action or adventure. To do this, each title's genres are given a score equal to the title's score. The genres are then grouped together and the average rating is calculated for each genre. In this analysis, genres with counts lower than 10 are dropped to avoid skewing the data with possible outliers."
   ]
  },
  {
   "cell_type": "code",
   "execution_count": 9,
   "metadata": {},
   "outputs": [
    {
     "data": {
      "text/html": [
       "<div>\n",
       "<style scoped>\n",
       "    .dataframe tbody tr th:only-of-type {\n",
       "        vertical-align: middle;\n",
       "    }\n",
       "\n",
       "    .dataframe tbody tr th {\n",
       "        vertical-align: top;\n",
       "    }\n",
       "\n",
       "    .dataframe thead th {\n",
       "        text-align: right;\n",
       "    }\n",
       "</style>\n",
       "<table border=\"1\" class=\"dataframe\">\n",
       "  <thead>\n",
       "    <tr style=\"text-align: right;\">\n",
       "      <th></th>\n",
       "      <th>genres</th>\n",
       "      <th>counts</th>\n",
       "      <th>rating</th>\n",
       "    </tr>\n",
       "  </thead>\n",
       "  <tbody>\n",
       "    <tr>\n",
       "      <th>0</th>\n",
       "      <td>Indie</td>\n",
       "      <td>70</td>\n",
       "      <td>91.342857</td>\n",
       "    </tr>\n",
       "    <tr>\n",
       "      <th>1</th>\n",
       "      <td>Early Access</td>\n",
       "      <td>10</td>\n",
       "      <td>90.200000</td>\n",
       "    </tr>\n",
       "    <tr>\n",
       "      <th>2</th>\n",
       "      <td>Strategy</td>\n",
       "      <td>82</td>\n",
       "      <td>84.341463</td>\n",
       "    </tr>\n",
       "    <tr>\n",
       "      <th>3</th>\n",
       "      <td>Free to Play</td>\n",
       "      <td>34</td>\n",
       "      <td>83.882353</td>\n",
       "    </tr>\n",
       "    <tr>\n",
       "      <th>4</th>\n",
       "      <td>RPG</td>\n",
       "      <td>82</td>\n",
       "      <td>83.780488</td>\n",
       "    </tr>\n",
       "    <tr>\n",
       "      <th>5</th>\n",
       "      <td>Simulation</td>\n",
       "      <td>91</td>\n",
       "      <td>83.153846</td>\n",
       "    </tr>\n",
       "    <tr>\n",
       "      <th>6</th>\n",
       "      <td>Action</td>\n",
       "      <td>174</td>\n",
       "      <td>81.948276</td>\n",
       "    </tr>\n",
       "    <tr>\n",
       "      <th>7</th>\n",
       "      <td>Adventure</td>\n",
       "      <td>94</td>\n",
       "      <td>81.542553</td>\n",
       "    </tr>\n",
       "    <tr>\n",
       "      <th>8</th>\n",
       "      <td>Massively Multiplayer</td>\n",
       "      <td>36</td>\n",
       "      <td>75.277778</td>\n",
       "    </tr>\n",
       "    <tr>\n",
       "      <th>9</th>\n",
       "      <td>Sports</td>\n",
       "      <td>15</td>\n",
       "      <td>64.666667</td>\n",
       "    </tr>\n",
       "  </tbody>\n",
       "</table>\n",
       "</div>"
      ],
      "text/plain": [
       "                  genres  counts     rating\n",
       "0                  Indie      70  91.342857\n",
       "1           Early Access      10  90.200000\n",
       "2               Strategy      82  84.341463\n",
       "3           Free to Play      34  83.882353\n",
       "4                    RPG      82  83.780488\n",
       "5             Simulation      91  83.153846\n",
       "6                 Action     174  81.948276\n",
       "7              Adventure      94  81.542553\n",
       "8  Massively Multiplayer      36  75.277778\n",
       "9                 Sports      15  64.666667"
      ]
     },
     "execution_count": 9,
     "metadata": {},
     "output_type": "execute_result"
    }
   ],
   "source": [
    "genre_counts = df.explode('genres').groupby('genres').title.count().reset_index().rename(columns={'title': 'counts'})\n",
    "genre_ratings = df.explode('genres').groupby('genres').rating.mean().reset_index()\n",
    "\n",
    "genre_counts_ratings = pd.merge(genre_counts, genre_ratings).sort_values(by='rating', ascending=False)\n",
    "genre_counts_ratings = genre_counts_ratings[genre_counts_ratings.counts >= 10].reset_index(drop=True)\n",
    "genre_counts_ratings"
   ]
  },
  {
   "cell_type": "code",
   "execution_count": 10,
   "metadata": {},
   "outputs": [
    {
     "data": {
      "image/png": "[encoded data removed]",
      "text/plain": [
       "<Figure size 720x432 with 1 Axes>"
      ]
     },
     "metadata": {
      "needs_background": "light"
     },
     "output_type": "display_data"
    }
   ],
   "source": [
    "sns.set_palette('husl')\n",
    "fig, ax = plt.subplots(figsize=(10, 6))\n",
    "sns.barplot(data=genre_counts_ratings, x='genres', y='rating')\n",
    "plt.xticks(rotation=40)\n",
    "ax.set_xlabel('Genres')\n",
    "ax.set_ylabel('Rating')\n",
    "ax.set_title('Average Genre Ratings for 2017-2019 Top Selling Games on Steam')\n",
    "plt.show()"
   ]
  },
  {
   "cell_type": "code",
   "execution_count": 11,
   "metadata": {},
   "outputs": [
    {
     "name": "stdout",
     "output_type": "stream",
     "text": [
      "The average genre rating is: 82.01362809553947\n"
     ]
    }
   ],
   "source": [
    "print(\"The average genre rating is: {0}\".format(genre_counts_ratings.rating.mean()))"
   ]
  },
  {
   "cell_type": "markdown",
   "metadata": {},
   "source": [
    "The \"indie\" genre is the rated highest, with an amazing average rating of 91.1, which is almost 10 points higher than the average of 81.9. Note that this average rating for the \"indie\" genre is different from the previous average rating for indie games, because some games are tagged as \"indie\" without having \"indie\" as a genre, and vice versa."
   ]
  },
  {
   "cell_type": "markdown",
   "metadata": {},
   "source": [
    "## Comparison Over Time"
   ]
  },
  {
   "cell_type": "markdown",
   "metadata": {},
   "source": [
    "We now know that indie games can be successful, and are rated on average much better than AAA developer games or other genres. Are they becoming more popular and increasing their hold on the market as one might suspect?"
   ]
  },
  {
   "cell_type": "code",
   "execution_count": 12,
   "metadata": {},
   "outputs": [
    {
     "data": {
      "text/html": [
       "<div>\n",
       "<style scoped>\n",
       "    .dataframe tbody tr th:only-of-type {\n",
       "        vertical-align: middle;\n",
       "    }\n",
       "\n",
       "    .dataframe tbody tr th {\n",
       "        vertical-align: top;\n",
       "    }\n",
       "\n",
       "    .dataframe thead th {\n",
       "        text-align: right;\n",
       "    }\n",
       "</style>\n",
       "<table border=\"1\" class=\"dataframe\">\n",
       "  <thead>\n",
       "    <tr style=\"text-align: right;\">\n",
       "      <th></th>\n",
       "      <th>year</th>\n",
       "      <th>is_indie</th>\n",
       "      <th>counts</th>\n",
       "      <th>year_counts</th>\n",
       "      <th>percentage</th>\n",
       "    </tr>\n",
       "  </thead>\n",
       "  <tbody>\n",
       "    <tr>\n",
       "      <th>0</th>\n",
       "      <td>2017</td>\n",
       "      <td>False</td>\n",
       "      <td>71</td>\n",
       "      <td>99</td>\n",
       "      <td>0.717172</td>\n",
       "    </tr>\n",
       "    <tr>\n",
       "      <th>1</th>\n",
       "      <td>2017</td>\n",
       "      <td>True</td>\n",
       "      <td>28</td>\n",
       "      <td>99</td>\n",
       "      <td>0.282828</td>\n",
       "    </tr>\n",
       "    <tr>\n",
       "      <th>2</th>\n",
       "      <td>2018</td>\n",
       "      <td>False</td>\n",
       "      <td>73</td>\n",
       "      <td>100</td>\n",
       "      <td>0.730000</td>\n",
       "    </tr>\n",
       "    <tr>\n",
       "      <th>3</th>\n",
       "      <td>2018</td>\n",
       "      <td>True</td>\n",
       "      <td>27</td>\n",
       "      <td>100</td>\n",
       "      <td>0.270000</td>\n",
       "    </tr>\n",
       "    <tr>\n",
       "      <th>4</th>\n",
       "      <td>2019</td>\n",
       "      <td>False</td>\n",
       "      <td>71</td>\n",
       "      <td>100</td>\n",
       "      <td>0.710000</td>\n",
       "    </tr>\n",
       "    <tr>\n",
       "      <th>5</th>\n",
       "      <td>2019</td>\n",
       "      <td>True</td>\n",
       "      <td>29</td>\n",
       "      <td>100</td>\n",
       "      <td>0.290000</td>\n",
       "    </tr>\n",
       "  </tbody>\n",
       "</table>\n",
       "</div>"
      ],
      "text/plain": [
       "   year  is_indie  counts  year_counts  percentage\n",
       "0  2017     False      71           99    0.717172\n",
       "1  2017      True      28           99    0.282828\n",
       "2  2018     False      73          100    0.730000\n",
       "3  2018      True      27          100    0.270000\n",
       "4  2019     False      71          100    0.710000\n",
       "5  2019      True      29          100    0.290000"
      ]
     },
     "execution_count": 12,
     "metadata": {},
     "output_type": "execute_result"
    }
   ],
   "source": [
    "indie_counts = df.groupby(['year', 'is_indie']).title.count().reset_index().rename(columns={'title': 'counts'})\n",
    "year_counts = df.groupby('year').title.count().reset_index().rename(columns={'title': 'year_counts'})\n",
    "indie_year_counts = pd.merge(indie_counts, year_counts)\n",
    "indie_year_counts['percentage'] = indie_year_counts.counts / indie_year_counts.year_counts\n",
    "indie_year_counts"
   ]
  },
  {
   "cell_type": "code",
   "execution_count": 13,
   "metadata": {},
   "outputs": [
    {
     "data": {
      "image/png": "[encoded data removed]",
      "text/plain": [
       "<Figure size 576x288 with 1 Axes>"
      ]
     },
     "metadata": {
      "needs_background": "light"
     },
     "output_type": "display_data"
    }
   ],
   "source": [
    "sns.set_palette('Paired')\n",
    "fig, ax = plt.subplots(figsize=(8, 4))\n",
    "sns.lineplot(data=indie_year_counts, x='year', y='percentage', hue='is_indie')\n",
    "ax.set_xticks([2017, 2018, 2019])\n",
    "ax.legend(['AAA', 'Indie'])\n",
    "ax.set_xlabel('Year')\n",
    "ax.set_ylabel('Percentage')\n",
    "ax.set_title('Developers for Top Selling Games on Steam From 2017-2019')\n",
    "plt.show()"
   ]
  },
  {
   "cell_type": "markdown",
   "metadata": {},
   "source": [
    "According to the graph, it doesn't look like much has changed over the past three years. The developer composition for top selling games appears stagnant. Let's run a chi squared test to check."
   ]
  },
  {
   "cell_type": "code",
   "execution_count": 14,
   "metadata": {},
   "outputs": [
    {
     "name": "stdout",
     "output_type": "stream",
     "text": [
      "The p-value is 0.9504560943428806\n"
     ]
    }
   ],
   "source": [
    "X = [[71, 28],\n",
    "     [73, 27],\n",
    "     [71, 29]]\n",
    "\n",
    "chi2, pval, dof, expected = stats.chi2_contingency(X)\n",
    "print(\"The p-value is {0}\".format(pval))"
   ]
  },
  {
   "cell_type": "markdown",
   "metadata": {},
   "source": [
    "With a p-value of 0.95, we cannot reject the null hypothesis that there is no significant difference between the datasets.\n",
    "\n",
    "It does not appear that indie games are increasing their hold on the top 100 selling games on Steam. Could one of the reasons be because they make less than AAA games, and some developers may not find it worthwhile to go up against these companies? To see if indie games typically make less than AAA games, we will group them by which \"ranking\" they fall in. Steam has categorized the top selling games based on a \"Platinum\", \"Gold\", \"Silver\", or \"Bronze\" ranking system, which represents how much revenue each game has brought in. "
   ]
  },
  {
   "cell_type": "code",
   "execution_count": 15,
   "metadata": {},
   "outputs": [
    {
     "data": {
      "image/png": "[encoded data removed]",
      "text/plain": [
       "<Figure size 720x288 with 1 Axes>"
      ]
     },
     "metadata": {
      "needs_background": "light"
     },
     "output_type": "display_data"
    }
   ],
   "source": [
    "fig, ax = plt.subplots(figsize=(10, 4))\n",
    "sns.barplot(data=df, x='ranking', y='rating', hue='is_indie', estimator=len)\n",
    "ax.set_xlabel('Ranking')\n",
    "ax.set_ylabel('Count')\n",
    "ax.set_title('Top Selling Games on Steam From 2017-2019')\n",
    "h, l = ax.get_legend_handles_labels()\n",
    "ax.legend(h, ['AAA', 'Indie'], title=\"Developer\")\n",
    "plt.show()"
   ]
  },
  {
   "cell_type": "markdown",
   "metadata": {},
   "source": [
    "Indie games make up a very small portion of top tier games (\"Platinum\" and \"Gold\") and thus generally make less than their AAA counterparts. However this makes sense due to the lower financial support they receive."
   ]
  },
  {
   "cell_type": "markdown",
   "metadata": {},
   "source": [
    "## Genre Composition"
   ]
  },
  {
   "cell_type": "markdown",
   "metadata": {},
   "source": [
    "Lastly, let's see if indie developers focus on different genres than AAA developers. Are AAA developers focused more on a particular subset of genres than indie developers? For this analysis, the \"indie\" genre has been exluded."
   ]
  },
  {
   "cell_type": "code",
   "execution_count": 16,
   "metadata": {},
   "outputs": [
    {
     "data": {
      "text/html": [
       "<div>\n",
       "<style scoped>\n",
       "    .dataframe tbody tr th:only-of-type {\n",
       "        vertical-align: middle;\n",
       "    }\n",
       "\n",
       "    .dataframe tbody tr th {\n",
       "        vertical-align: top;\n",
       "    }\n",
       "\n",
       "    .dataframe thead th {\n",
       "        text-align: right;\n",
       "    }\n",
       "</style>\n",
       "<table border=\"1\" class=\"dataframe\">\n",
       "  <thead>\n",
       "    <tr style=\"text-align: right;\">\n",
       "      <th></th>\n",
       "      <th>is_indie</th>\n",
       "      <th>genres</th>\n",
       "      <th>counts</th>\n",
       "    </tr>\n",
       "  </thead>\n",
       "  <tbody>\n",
       "    <tr>\n",
       "      <th>0</th>\n",
       "      <td>False</td>\n",
       "      <td>Action</td>\n",
       "      <td>134</td>\n",
       "    </tr>\n",
       "    <tr>\n",
       "      <th>9</th>\n",
       "      <td>False</td>\n",
       "      <td>Strategy</td>\n",
       "      <td>64</td>\n",
       "    </tr>\n",
       "    <tr>\n",
       "      <th>7</th>\n",
       "      <td>False</td>\n",
       "      <td>Simulation</td>\n",
       "      <td>59</td>\n",
       "    </tr>\n",
       "    <tr>\n",
       "      <th>5</th>\n",
       "      <td>False</td>\n",
       "      <td>RPG</td>\n",
       "      <td>56</td>\n",
       "    </tr>\n",
       "    <tr>\n",
       "      <th>1</th>\n",
       "      <td>False</td>\n",
       "      <td>Adventure</td>\n",
       "      <td>54</td>\n",
       "    </tr>\n",
       "    <tr>\n",
       "      <th>3</th>\n",
       "      <td>False</td>\n",
       "      <td>Free to Play</td>\n",
       "      <td>31</td>\n",
       "    </tr>\n",
       "    <tr>\n",
       "      <th>4</th>\n",
       "      <td>False</td>\n",
       "      <td>Massively Multiplayer</td>\n",
       "      <td>25</td>\n",
       "    </tr>\n",
       "    <tr>\n",
       "      <th>8</th>\n",
       "      <td>False</td>\n",
       "      <td>Sports</td>\n",
       "      <td>12</td>\n",
       "    </tr>\n",
       "    <tr>\n",
       "      <th>2</th>\n",
       "      <td>False</td>\n",
       "      <td>Casual</td>\n",
       "      <td>1</td>\n",
       "    </tr>\n",
       "    <tr>\n",
       "      <th>6</th>\n",
       "      <td>False</td>\n",
       "      <td>Racing</td>\n",
       "      <td>1</td>\n",
       "    </tr>\n",
       "    <tr>\n",
       "      <th>10</th>\n",
       "      <td>True</td>\n",
       "      <td>Action</td>\n",
       "      <td>40</td>\n",
       "    </tr>\n",
       "    <tr>\n",
       "      <th>11</th>\n",
       "      <td>True</td>\n",
       "      <td>Adventure</td>\n",
       "      <td>40</td>\n",
       "    </tr>\n",
       "    <tr>\n",
       "      <th>20</th>\n",
       "      <td>True</td>\n",
       "      <td>Simulation</td>\n",
       "      <td>32</td>\n",
       "    </tr>\n",
       "    <tr>\n",
       "      <th>18</th>\n",
       "      <td>True</td>\n",
       "      <td>RPG</td>\n",
       "      <td>26</td>\n",
       "    </tr>\n",
       "    <tr>\n",
       "      <th>22</th>\n",
       "      <td>True</td>\n",
       "      <td>Strategy</td>\n",
       "      <td>18</td>\n",
       "    </tr>\n",
       "    <tr>\n",
       "      <th>17</th>\n",
       "      <td>True</td>\n",
       "      <td>Massively Multiplayer</td>\n",
       "      <td>11</td>\n",
       "    </tr>\n",
       "    <tr>\n",
       "      <th>15</th>\n",
       "      <td>True</td>\n",
       "      <td>Early Access</td>\n",
       "      <td>10</td>\n",
       "    </tr>\n",
       "    <tr>\n",
       "      <th>13</th>\n",
       "      <td>True</td>\n",
       "      <td>Casual</td>\n",
       "      <td>3</td>\n",
       "    </tr>\n",
       "    <tr>\n",
       "      <th>16</th>\n",
       "      <td>True</td>\n",
       "      <td>Free to Play</td>\n",
       "      <td>3</td>\n",
       "    </tr>\n",
       "    <tr>\n",
       "      <th>19</th>\n",
       "      <td>True</td>\n",
       "      <td>Racing</td>\n",
       "      <td>3</td>\n",
       "    </tr>\n",
       "    <tr>\n",
       "      <th>21</th>\n",
       "      <td>True</td>\n",
       "      <td>Sports</td>\n",
       "      <td>3</td>\n",
       "    </tr>\n",
       "    <tr>\n",
       "      <th>12</th>\n",
       "      <td>True</td>\n",
       "      <td>Animation &amp; Modeling</td>\n",
       "      <td>2</td>\n",
       "    </tr>\n",
       "    <tr>\n",
       "      <th>14</th>\n",
       "      <td>True</td>\n",
       "      <td>Design &amp; Illustration</td>\n",
       "      <td>2</td>\n",
       "    </tr>\n",
       "    <tr>\n",
       "      <th>23</th>\n",
       "      <td>True</td>\n",
       "      <td>Utilities</td>\n",
       "      <td>2</td>\n",
       "    </tr>\n",
       "  </tbody>\n",
       "</table>\n",
       "</div>"
      ],
      "text/plain": [
       "    is_indie                 genres  counts\n",
       "0      False                 Action     134\n",
       "9      False               Strategy      64\n",
       "7      False             Simulation      59\n",
       "5      False                    RPG      56\n",
       "1      False              Adventure      54\n",
       "3      False           Free to Play      31\n",
       "4      False  Massively Multiplayer      25\n",
       "8      False                 Sports      12\n",
       "2      False                 Casual       1\n",
       "6      False                 Racing       1\n",
       "10      True                 Action      40\n",
       "11      True              Adventure      40\n",
       "20      True             Simulation      32\n",
       "18      True                    RPG      26\n",
       "22      True               Strategy      18\n",
       "17      True  Massively Multiplayer      11\n",
       "15      True           Early Access      10\n",
       "13      True                 Casual       3\n",
       "16      True           Free to Play       3\n",
       "19      True                 Racing       3\n",
       "21      True                 Sports       3\n",
       "12      True   Animation & Modeling       2\n",
       "14      True  Design & Illustration       2\n",
       "23      True              Utilities       2"
      ]
     },
     "execution_count": 16,
     "metadata": {},
     "output_type": "execute_result"
    }
   ],
   "source": [
    "genre_explode = df.explode('genres')\n",
    "genre_explode_no_indie = genre_explode[genre_explode.genres != 'Indie']\n",
    "dev_genre_counts = genre_explode_no_indie.groupby(['is_indie', 'genres']).title.count().reset_index()\\\n",
    "                                         .rename(columns={'title': 'counts'})\\\n",
    "                                         .sort_values(by=['is_indie', 'counts'], ascending=[True, False])\n",
    "AAA_genre_counts = dev_genre_counts[dev_genre_counts.is_indie == False]\n",
    "indie_genre_counts = dev_genre_counts[dev_genre_counts.is_indie == True]\n",
    "dev_genre_counts"
   ]
  },
  {
   "cell_type": "code",
   "execution_count": 17,
   "metadata": {},
   "outputs": [
    {
     "data": {
      "image/png": "[encoded data removed]",
      "text/plain": [
       "<Figure size 576x288 with 2 Axes>"
      ]
     },
     "metadata": {},
     "output_type": "display_data"
    }
   ],
   "source": [
    "fig, [ax1, ax2] = plt.subplots(1, 2, figsize=(8, 4))\n",
    "fig.suptitle('Genres of Top Selling Games on Steam From 2017-2019', y=1.05)\n",
    "\n",
    "percentage1 = 100 * np.array(AAA_genre_counts.counts) / sum(np.array(AAA_genre_counts.counts))\n",
    "label1 = ['{0}: {1:0.1f}%'.format(a, b) for (a, b) in zip(AAA_genre_counts.genres, percentage1)]\n",
    "ax1.pie(AAA_genre_counts.counts, shadow=True)\n",
    "ax1.legend(label1, bbox_to_anchor=(0, 1))\n",
    "ax1.set_title('AAA Developers')\n",
    "ax1.axis('equal')\n",
    "\n",
    "percentage2 = 100 * np.array(indie_genre_counts.counts) / sum(np.array(indie_genre_counts.counts))\n",
    "label2 = ['{0}: {1:0.1f}%'.format(a, b) for (a, b) in zip(indie_genre_counts.genres, percentage2)]\n",
    "ax2.pie(indie_genre_counts.counts, shadow=True)\n",
    "ax2.legend(label2, bbox_to_anchor=(1, 1))\n",
    "ax2.set_title('Indie Developers')\n",
    "ax2.axis('equal')\n",
    "\n",
    "plt.show()"
   ]
  },
  {
   "cell_type": "markdown",
   "metadata": {},
   "source": [
    "The top selling indie games are more varied in their genre composition than AAA games, with more genres overall and less of an emphasis on action. This supports the stereotype that AAA games are more focused on providing top-tier action, strategy, adventure, and RPG games, while indie games typically cover a wider scope of playstyles."
   ]
  },
  {
   "cell_type": "markdown",
   "metadata": {},
   "source": [
    "## Summary and Closing Thoughts"
   ]
  },
  {
   "cell_type": "markdown",
   "metadata": {},
   "source": [
    "We can see from the data that indie games actually make up a fairly significant portion of top selling games on Steam. They are also typically rated higher than their AAA counterparts, and offer a broader scope of playstyles as well. With this in mind, one might think that indie games may begin to increase their hold on the market. However, the ratio of indie games to AAA games has remained fairly constant in Steam's top selling games over the past three years. We explored one possible reason for this, and determined that AAA games typically have higher gross revenues than indie games, which may be a deterrent for some developers. However, this should be expected due to their ability to spend more on development and marketing. In addition, indie developers are typically smaller than AAA developers, so the revenue they earn may be relatively more than AAA developers when company size is taken into account.\n",
    "\n",
    "So what other reasons could there be for why indie games are not overtaking the market despite superior ratings and proven success stories? Perhaps it comes down to simple preference, where a large portion of the population may simply prefer action packed titles with high quality graphics, while a smaller portion of the population may prefer slower paced and relaxing titles. Another possibility is that AAA developers are more likely to offer microtransactions which increase gross revenue significantly, or that their games simply cost more. Ratings may also not matter as much as we may think, with the popularity of games often playing a significant role in their success, which can be affected through marketing. In addition, Steam has only begun providing this data three years ago, which is a fairly short time frame for analysis. Further anlaysis on the topic may be necessary to answer these questions."
   ]
  }
 ],
 "metadata": {
  "kernelspec": {
   "display_name": "Python 3",
   "language": "python",
   "name": "python3"
  },
  "language_info": {
   "codemirror_mode": {
    "name": "ipython",
    "version": 3
   },
   "file_extension": ".py",
   "mimetype": "text/x-python",
   "name": "python",
   "nbconvert_exporter": "python",
   "pygments_lexer": "ipython3",
   "version": "3.7.3"
  }
 },
 "nbformat": 4,
 "nbformat_minor": 2
}
