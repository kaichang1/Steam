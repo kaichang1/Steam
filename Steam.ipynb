{
 "cells": [
  {
   "cell_type": "markdown",
   "metadata": {},
   "source": [
    "# Steam Data Analysis with Python"
   ]
  },
  {
   "cell_type": "markdown",
   "metadata": {},
   "source": [
    "## Introduction"
   ]
  },
  {
   "cell_type": "markdown",
   "metadata": {},
   "source": [
    "Most commonly-heard of games from big AAA developers, Stardew Valley stood out as a popular indie game, only one dev and 4 years. Critical and commercial success - over 10 million copies sold. How likely is this level of success? Is it rare for indie games to be successful? How many of top games are indie? How do ratings for indie games compare to AAA games? What genres are popular in gaming in general, and indie vs AAA?\n",
    "\n",
    "Info collected via web scraping Steam, allowed by robot.txt. Data collected 2/10/20 (update this)."
   ]
  },
  {
   "cell_type": "markdown",
   "metadata": {},
   "source": [
    "## Importing Libraries and Setting Up"
   ]
  },
  {
   "cell_type": "markdown",
   "metadata": {},
   "source": [
    "Need selenium instead of requests library since Javascript."
   ]
  },
  {
   "cell_type": "code",
   "execution_count": 328,
   "metadata": {},
   "outputs": [],
   "source": [
    "from selenium import webdriver\n",
    "import requests\n",
    "import time\n",
    "from bs4 import BeautifulSoup\n",
    "import re\n",
    "import pandas as pd\n",
    "import matplotlib.pyplot as plt\n",
    "import seaborn as sns\n",
    "import numpy as np\n",
    "from scipy import stats"
   ]
  },
  {
   "cell_type": "markdown",
   "metadata": {},
   "source": [
    "Begin to scrape data. Data from Steam's top 100 games of 2017, 2018, 2019."
   ]
  },
  {
   "cell_type": "code",
   "execution_count": 2,
   "metadata": {
    "scrolled": true
   },
   "outputs": [],
   "source": [
    "urls = {2017: 'https://store.steampowered.com/sale/2017_best_sellers/',\n",
    "        2018: 'https://store.steampowered.com/sale/winter2018bestof/',\n",
    "        2019: 'https://store.steampowered.com/sale/2019_top_sellers'}\n",
    "lst = []\n",
    "\n",
    "for i in range(2017, 2020):\n",
    "    driver = webdriver.Chrome('C:\\Chromedriver\\chromedriver.exe')\n",
    "    driver.get(urls[i])\n",
    "    soup = BeautifulSoup(driver.page_source, 'html.parser')\n",
    "    driver.quit()\n",
    "    time.sleep(1)\n",
    "    \n",
    "    columns = ['year', 'ranking', 'title', 'genres', 'tags', 'rating', 'num_reviews']\n",
    "    year = i\n",
    "    table = []\n",
    "    \n",
    "    divs = soup.find_all('div',\\\n",
    "                         attrs={'class': 'partnersaledisplay_SaleSection_1cOoC eventbbcodeparser_SaleSectionCtn_39HWX'})\n",
    "    # Try and except statements necessary due to different HTML for different years\n",
    "    if divs == []:\n",
    "        divs = soup.find_all('div', attrs={'class': 'sale_tier'})\n",
    "    for div in divs:\n",
    "        try:\n",
    "            ranking = div.find(attrs={'div', 'partnereventshared_SaleSectionHeader_2WMiQ'}).text\n",
    "        except AttributeError:\n",
    "            ranking = div.h2.text\n",
    "            \n",
    "        if ranking != '':\n",
    "            games = div.find_all('a')\n",
    "            for game in games:\n",
    "                game_url = game['href']\n",
    "                # Cookies necessary to bypass age verification\n",
    "                source = requests.get(game_url, cookies={'birthtime': '691574401'}).content\n",
    "                game_page = BeautifulSoup(source, 'html.parser')\n",
    "                time.sleep(1)\n",
    "\n",
    "                title = game_page.find('div', attrs={'class': 'apphub_AppName'}).text\n",
    "\n",
    "                genres = []\n",
    "                genre_links = game_page.find('div',\\\n",
    "                                        attrs={'class': 'block responsive_apppage_details_left game_details underlined_links'})\\\n",
    "                                       .find('div', attrs={'class': 'details_block'}).find_all('a')\n",
    "                for genre_link in genre_links:\n",
    "                    if 'genre' in str(genre_link):\n",
    "                        genres.append(genre_link.string)\n",
    "\n",
    "                tags = []\n",
    "                tag_links = game_page.find('div', attrs={'class': 'glance_tags popular_tags'}).find_all('a')\n",
    "                for tag_link in tag_links:\n",
    "                    tags.append(tag_link.string.strip())\n",
    "\n",
    "                try:\n",
    "                    rating_num_reviews = game_page.find('div', attrs={'itemprop': 'aggregateRating'})\\\n",
    "                                                  .find('span',attrs={'class': 'nonresponsive_hidden responsive_reviewdesc'})\\\n",
    "                                                  .get_text('|')\n",
    "                    rating_num_reviews_split = re.split('(\\d+)', rating_num_reviews.strip().replace(',', ''))\n",
    "                    rating = int(rating_num_reviews_split[1])\n",
    "                    num_reviews = int(rating_num_reviews_split[3])\n",
    "                except AttributeError:\n",
    "                    rating = 0\n",
    "                    num_reviews = 0\n",
    "\n",
    "                row = [year, ranking, title, genres, tags, rating, num_reviews]\n",
    "                table.append(row)\n",
    "                \n",
    "    lst.append(pd.DataFrame(table, columns=columns))\n",
    "    \n",
    "df = pd.concat(lst).reset_index(drop=True)"
   ]
  },
  {
   "cell_type": "markdown",
   "metadata": {},
   "source": [
    "Now we have our data...\n",
    "\n",
    "Should note that the ratings/num_reviews only represents their current value as of date of data collection, does not represent what they were in 2017, 2018, or 2019.\n",
    "\n",
    "Determine what percent of top games are indie - must search for \"Indie\" in both genres and tags columns."
   ]
  },
  {
   "cell_type": "code",
   "execution_count": 3,
   "metadata": {},
   "outputs": [
    {
     "data": {
      "text/html": [
       "<div>\n",
       "<style scoped>\n",
       "    .dataframe tbody tr th:only-of-type {\n",
       "        vertical-align: middle;\n",
       "    }\n",
       "\n",
       "    .dataframe tbody tr th {\n",
       "        vertical-align: top;\n",
       "    }\n",
       "\n",
       "    .dataframe thead th {\n",
       "        text-align: right;\n",
       "    }\n",
       "</style>\n",
       "<table border=\"1\" class=\"dataframe\">\n",
       "  <thead>\n",
       "    <tr style=\"text-align: right;\">\n",
       "      <th></th>\n",
       "      <th>year</th>\n",
       "      <th>ranking</th>\n",
       "      <th>title</th>\n",
       "      <th>genres</th>\n",
       "      <th>tags</th>\n",
       "      <th>rating</th>\n",
       "      <th>num_reviews</th>\n",
       "      <th>is_indie</th>\n",
       "    </tr>\n",
       "  </thead>\n",
       "  <tbody>\n",
       "    <tr>\n",
       "      <th>0</th>\n",
       "      <td>2017</td>\n",
       "      <td>Platinum</td>\n",
       "      <td>Rocket League®</td>\n",
       "      <td>[Action, Indie, Racing, Sports]</td>\n",
       "      <td>[Multiplayer, Soccer, Competitive, Sports, Rac...</td>\n",
       "      <td>92</td>\n",
       "      <td>270980</td>\n",
       "      <td>True</td>\n",
       "    </tr>\n",
       "    <tr>\n",
       "      <th>1</th>\n",
       "      <td>2017</td>\n",
       "      <td>Platinum</td>\n",
       "      <td>ARK: Survival Evolved</td>\n",
       "      <td>[Action, Adventure, Indie, Massively Multiplay...</td>\n",
       "      <td>[Open World Survival Craft, Survival, Open Wor...</td>\n",
       "      <td>74</td>\n",
       "      <td>220484</td>\n",
       "      <td>True</td>\n",
       "    </tr>\n",
       "    <tr>\n",
       "      <th>2</th>\n",
       "      <td>2017</td>\n",
       "      <td>Platinum</td>\n",
       "      <td>Tom Clancy's Ghost Recon® Wildlands</td>\n",
       "      <td>[Action, Adventure]</td>\n",
       "      <td>[Open World, Shooter, Action, Co-op, Multiplay...</td>\n",
       "      <td>76</td>\n",
       "      <td>34310</td>\n",
       "      <td>False</td>\n",
       "    </tr>\n",
       "    <tr>\n",
       "      <th>3</th>\n",
       "      <td>2017</td>\n",
       "      <td>Platinum</td>\n",
       "      <td>Warframe</td>\n",
       "      <td>[Action, Free to Play]</td>\n",
       "      <td>[Looter Shooter, Free to Play, Action, Co-op, ...</td>\n",
       "      <td>92</td>\n",
       "      <td>328571</td>\n",
       "      <td>False</td>\n",
       "    </tr>\n",
       "    <tr>\n",
       "      <th>4</th>\n",
       "      <td>2017</td>\n",
       "      <td>Platinum</td>\n",
       "      <td>Grand Theft Auto V</td>\n",
       "      <td>[Action, Adventure]</td>\n",
       "      <td>[Open World, Action, Multiplayer, Automobile S...</td>\n",
       "      <td>78</td>\n",
       "      <td>649281</td>\n",
       "      <td>False</td>\n",
       "    </tr>\n",
       "    <tr>\n",
       "      <th>...</th>\n",
       "      <td>...</td>\n",
       "      <td>...</td>\n",
       "      <td>...</td>\n",
       "      <td>...</td>\n",
       "      <td>...</td>\n",
       "      <td>...</td>\n",
       "      <td>...</td>\n",
       "      <td>...</td>\n",
       "    </tr>\n",
       "    <tr>\n",
       "      <th>294</th>\n",
       "      <td>2019</td>\n",
       "      <td>Bronze</td>\n",
       "      <td>Terraria</td>\n",
       "      <td>[Action, Adventure, Indie, RPG]</td>\n",
       "      <td>[Open World Survival Craft, Sandbox, Survival,...</td>\n",
       "      <td>97</td>\n",
       "      <td>318290</td>\n",
       "      <td>True</td>\n",
       "    </tr>\n",
       "    <tr>\n",
       "      <th>295</th>\n",
       "      <td>2019</td>\n",
       "      <td>Bronze</td>\n",
       "      <td>Paladins®</td>\n",
       "      <td>[Action, Free to Play]</td>\n",
       "      <td>[Hero Shooter, Free to Play, Multiplayer, FPS,...</td>\n",
       "      <td>85</td>\n",
       "      <td>246004</td>\n",
       "      <td>False</td>\n",
       "    </tr>\n",
       "    <tr>\n",
       "      <th>296</th>\n",
       "      <td>2019</td>\n",
       "      <td>Bronze</td>\n",
       "      <td>American Truck Simulator</td>\n",
       "      <td>[Indie, Simulation]</td>\n",
       "      <td>[Automobile Sim, Simulation, Driving, Open Wor...</td>\n",
       "      <td>94</td>\n",
       "      <td>34093</td>\n",
       "      <td>True</td>\n",
       "    </tr>\n",
       "    <tr>\n",
       "      <th>297</th>\n",
       "      <td>2019</td>\n",
       "      <td>Bronze</td>\n",
       "      <td>ASTRONEER</td>\n",
       "      <td>[Adventure, Indie]</td>\n",
       "      <td>[Open World Survival Craft, Open World, Surviv...</td>\n",
       "      <td>88</td>\n",
       "      <td>45910</td>\n",
       "      <td>True</td>\n",
       "    </tr>\n",
       "    <tr>\n",
       "      <th>298</th>\n",
       "      <td>2019</td>\n",
       "      <td>Bronze</td>\n",
       "      <td>Two Point Hospital</td>\n",
       "      <td>[Indie, Simulation]</td>\n",
       "      <td>[Medical Sim, Simulation, Management, Building...</td>\n",
       "      <td>90</td>\n",
       "      <td>11161</td>\n",
       "      <td>True</td>\n",
       "    </tr>\n",
       "  </tbody>\n",
       "</table>\n",
       "<p>299 rows × 8 columns</p>\n",
       "</div>"
      ],
      "text/plain": [
       "     year   ranking                                title  \\\n",
       "0    2017  Platinum                       Rocket League®   \n",
       "1    2017  Platinum                ARK: Survival Evolved   \n",
       "2    2017  Platinum  Tom Clancy's Ghost Recon® Wildlands   \n",
       "3    2017  Platinum                             Warframe   \n",
       "4    2017  Platinum                   Grand Theft Auto V   \n",
       "..    ...       ...                                  ...   \n",
       "294  2019    Bronze                             Terraria   \n",
       "295  2019    Bronze                            Paladins®   \n",
       "296  2019    Bronze             American Truck Simulator   \n",
       "297  2019    Bronze                            ASTRONEER   \n",
       "298  2019    Bronze                   Two Point Hospital   \n",
       "\n",
       "                                                genres  \\\n",
       "0                      [Action, Indie, Racing, Sports]   \n",
       "1    [Action, Adventure, Indie, Massively Multiplay...   \n",
       "2                                  [Action, Adventure]   \n",
       "3                               [Action, Free to Play]   \n",
       "4                                  [Action, Adventure]   \n",
       "..                                                 ...   \n",
       "294                    [Action, Adventure, Indie, RPG]   \n",
       "295                             [Action, Free to Play]   \n",
       "296                                [Indie, Simulation]   \n",
       "297                                 [Adventure, Indie]   \n",
       "298                                [Indie, Simulation]   \n",
       "\n",
       "                                                  tags  rating  num_reviews  \\\n",
       "0    [Multiplayer, Soccer, Competitive, Sports, Rac...      92       270980   \n",
       "1    [Open World Survival Craft, Survival, Open Wor...      74       220484   \n",
       "2    [Open World, Shooter, Action, Co-op, Multiplay...      76        34310   \n",
       "3    [Looter Shooter, Free to Play, Action, Co-op, ...      92       328571   \n",
       "4    [Open World, Action, Multiplayer, Automobile S...      78       649281   \n",
       "..                                                 ...     ...          ...   \n",
       "294  [Open World Survival Craft, Sandbox, Survival,...      97       318290   \n",
       "295  [Hero Shooter, Free to Play, Multiplayer, FPS,...      85       246004   \n",
       "296  [Automobile Sim, Simulation, Driving, Open Wor...      94        34093   \n",
       "297  [Open World Survival Craft, Open World, Surviv...      88        45910   \n",
       "298  [Medical Sim, Simulation, Management, Building...      90        11161   \n",
       "\n",
       "     is_indie  \n",
       "0        True  \n",
       "1        True  \n",
       "2       False  \n",
       "3       False  \n",
       "4       False  \n",
       "..        ...  \n",
       "294      True  \n",
       "295     False  \n",
       "296      True  \n",
       "297      True  \n",
       "298      True  \n",
       "\n",
       "[299 rows x 8 columns]"
      ]
     },
     "execution_count": 3,
     "metadata": {},
     "output_type": "execute_result"
    }
   ],
   "source": [
    "df['is_indie'] = df.apply(lambda row: True if ('Indie' in row['genres'] or 'Indie' in row['tags']) else False, axis=1)\n",
    "df"
   ]
  },
  {
   "cell_type": "markdown",
   "metadata": {},
   "source": [
    "Now we will make a pie chart."
   ]
  },
  {
   "cell_type": "code",
   "execution_count": 4,
   "metadata": {},
   "outputs": [
    {
     "data": {
      "text/html": [
       "<div>\n",
       "<style scoped>\n",
       "    .dataframe tbody tr th:only-of-type {\n",
       "        vertical-align: middle;\n",
       "    }\n",
       "\n",
       "    .dataframe tbody tr th {\n",
       "        vertical-align: top;\n",
       "    }\n",
       "\n",
       "    .dataframe thead th {\n",
       "        text-align: right;\n",
       "    }\n",
       "</style>\n",
       "<table border=\"1\" class=\"dataframe\">\n",
       "  <thead>\n",
       "    <tr style=\"text-align: right;\">\n",
       "      <th></th>\n",
       "      <th>is_indie</th>\n",
       "      <th>counts</th>\n",
       "    </tr>\n",
       "  </thead>\n",
       "  <tbody>\n",
       "    <tr>\n",
       "      <th>0</th>\n",
       "      <td>False</td>\n",
       "      <td>215</td>\n",
       "    </tr>\n",
       "    <tr>\n",
       "      <th>1</th>\n",
       "      <td>True</td>\n",
       "      <td>84</td>\n",
       "    </tr>\n",
       "  </tbody>\n",
       "</table>\n",
       "</div>"
      ],
      "text/plain": [
       "   is_indie  counts\n",
       "0     False     215\n",
       "1      True      84"
      ]
     },
     "execution_count": 4,
     "metadata": {},
     "output_type": "execute_result"
    }
   ],
   "source": [
    "df.is_indie.value_counts().reset_index().rename(columns={'index': 'is_indie', 'is_indie': 'counts'})"
   ]
  },
  {
   "cell_type": "code",
   "execution_count": 351,
   "metadata": {},
   "outputs": [
    {
     "data": {
      "image/png": "[encoded data removed]",
      "text/plain": [
       "<Figure size 432x288 with 1 Axes>"
      ]
     },
     "metadata": {},
     "output_type": "display_data"
    }
   ],
   "source": [
    "fig, ax = plt.subplots()\n",
    "ax.pie(df.is_indie.value_counts(), autopct='%0.1f%%', pctdistance=1.2, shadow=True, explode=(0, 0.1))\n",
    "ax.legend(['AAA Developer', 'Indie Developer'])\n",
    "ax.set_title('Developers for 2017-2019 Top Selling Games on Steam')\n",
    "ax.axis('equal')\n",
    "plt.show()"
   ]
  },
  {
   "cell_type": "markdown",
   "metadata": {},
   "source": [
    "Indie games cover 28.1% of the market, actually not that rare!\n",
    "\n",
    "Now compare indie ratings to AAA ratings."
   ]
  },
  {
   "cell_type": "code",
   "execution_count": 6,
   "metadata": {},
   "outputs": [
    {
     "data": {
      "text/html": [
       "<div>\n",
       "<style scoped>\n",
       "    .dataframe tbody tr th:only-of-type {\n",
       "        vertical-align: middle;\n",
       "    }\n",
       "\n",
       "    .dataframe tbody tr th {\n",
       "        vertical-align: top;\n",
       "    }\n",
       "\n",
       "    .dataframe thead th {\n",
       "        text-align: right;\n",
       "    }\n",
       "</style>\n",
       "<table border=\"1\" class=\"dataframe\">\n",
       "  <thead>\n",
       "    <tr style=\"text-align: right;\">\n",
       "      <th></th>\n",
       "      <th>is_indie</th>\n",
       "      <th>rating</th>\n",
       "    </tr>\n",
       "  </thead>\n",
       "  <tbody>\n",
       "    <tr>\n",
       "      <th>0</th>\n",
       "      <td>False</td>\n",
       "      <td>80.079070</td>\n",
       "    </tr>\n",
       "    <tr>\n",
       "      <th>1</th>\n",
       "      <td>True</td>\n",
       "      <td>89.833333</td>\n",
       "    </tr>\n",
       "  </tbody>\n",
       "</table>\n",
       "</div>"
      ],
      "text/plain": [
       "   is_indie     rating\n",
       "0     False  80.079070\n",
       "1      True  89.833333"
      ]
     },
     "execution_count": 6,
     "metadata": {},
     "output_type": "execute_result"
    }
   ],
   "source": [
    "df.groupby('is_indie').rating.mean().reset_index()"
   ]
  },
  {
   "cell_type": "code",
   "execution_count": 352,
   "metadata": {},
   "outputs": [
    {
     "data": {
      "image/png": "[encoded data removed]",
      "text/plain": [
       "<Figure size 432x288 with 1 Axes>"
      ]
     },
     "metadata": {},
     "output_type": "display_data"
    }
   ],
   "source": [
    "fig, ax = plt.subplots()\n",
    "sns.barplot(data=df, x='is_indie', y='rating')\n",
    "ax.set_xlabel('Developer')\n",
    "ax.set_xticklabels(['AAA', 'Indie'])\n",
    "ax.set_yticks([0, 20, 40, 60, 80, 100])\n",
    "ax.set_ylabel('Rating')\n",
    "ax.set_title('Average Game Ratings for 2017-2019 Top Selling Games on Steam')\n",
    "plt.show()"
   ]
  },
  {
   "cell_type": "markdown",
   "metadata": {},
   "source": [
    "Indie games are rated almost a full 10% higher than AAA games on average!\n",
    "\n",
    "Now compare indie genre ratings to other genre ratings. Genres with counts lower than 10 are dropped in our genre analysis to avoid skewing the data with possible outliers."
   ]
  },
  {
   "cell_type": "code",
   "execution_count": 8,
   "metadata": {},
   "outputs": [
    {
     "data": {
      "text/html": [
       "<div>\n",
       "<style scoped>\n",
       "    .dataframe tbody tr th:only-of-type {\n",
       "        vertical-align: middle;\n",
       "    }\n",
       "\n",
       "    .dataframe tbody tr th {\n",
       "        vertical-align: top;\n",
       "    }\n",
       "\n",
       "    .dataframe thead th {\n",
       "        text-align: right;\n",
       "    }\n",
       "</style>\n",
       "<table border=\"1\" class=\"dataframe\">\n",
       "  <thead>\n",
       "    <tr style=\"text-align: right;\">\n",
       "      <th></th>\n",
       "      <th>genres</th>\n",
       "      <th>counts</th>\n",
       "      <th>rating</th>\n",
       "    </tr>\n",
       "  </thead>\n",
       "  <tbody>\n",
       "    <tr>\n",
       "      <th>0</th>\n",
       "      <td>Indie</td>\n",
       "      <td>68</td>\n",
       "      <td>91.132353</td>\n",
       "    </tr>\n",
       "    <tr>\n",
       "      <th>1</th>\n",
       "      <td>Early Access</td>\n",
       "      <td>10</td>\n",
       "      <td>90.100000</td>\n",
       "    </tr>\n",
       "    <tr>\n",
       "      <th>2</th>\n",
       "      <td>Strategy</td>\n",
       "      <td>82</td>\n",
       "      <td>84.219512</td>\n",
       "    </tr>\n",
       "    <tr>\n",
       "      <th>3</th>\n",
       "      <td>Free to Play</td>\n",
       "      <td>34</td>\n",
       "      <td>83.882353</td>\n",
       "    </tr>\n",
       "    <tr>\n",
       "      <th>4</th>\n",
       "      <td>RPG</td>\n",
       "      <td>82</td>\n",
       "      <td>83.707317</td>\n",
       "    </tr>\n",
       "    <tr>\n",
       "      <th>5</th>\n",
       "      <td>Simulation</td>\n",
       "      <td>91</td>\n",
       "      <td>83.076923</td>\n",
       "    </tr>\n",
       "    <tr>\n",
       "      <th>6</th>\n",
       "      <td>Action</td>\n",
       "      <td>174</td>\n",
       "      <td>81.890805</td>\n",
       "    </tr>\n",
       "    <tr>\n",
       "      <th>7</th>\n",
       "      <td>Adventure</td>\n",
       "      <td>94</td>\n",
       "      <td>81.436170</td>\n",
       "    </tr>\n",
       "    <tr>\n",
       "      <th>8</th>\n",
       "      <td>Massively Multiplayer</td>\n",
       "      <td>36</td>\n",
       "      <td>75.111111</td>\n",
       "    </tr>\n",
       "    <tr>\n",
       "      <th>9</th>\n",
       "      <td>Sports</td>\n",
       "      <td>15</td>\n",
       "      <td>64.666667</td>\n",
       "    </tr>\n",
       "  </tbody>\n",
       "</table>\n",
       "</div>"
      ],
      "text/plain": [
       "                  genres  counts     rating\n",
       "0                  Indie      68  91.132353\n",
       "1           Early Access      10  90.100000\n",
       "2               Strategy      82  84.219512\n",
       "3           Free to Play      34  83.882353\n",
       "4                    RPG      82  83.707317\n",
       "5             Simulation      91  83.076923\n",
       "6                 Action     174  81.890805\n",
       "7              Adventure      94  81.436170\n",
       "8  Massively Multiplayer      36  75.111111\n",
       "9                 Sports      15  64.666667"
      ]
     },
     "execution_count": 8,
     "metadata": {},
     "output_type": "execute_result"
    }
   ],
   "source": [
    "genre_counts = df.explode('genres').groupby('genres').title.count().reset_index().rename(columns={'title': 'counts'})\n",
    "genre_ratings = df.explode('genres').groupby('genres').rating.mean().reset_index()\n",
    "\n",
    "genre_counts_ratings = pd.merge(genre_counts, genre_ratings).sort_values(by='rating', ascending=False)\n",
    "genre_counts_ratings = genre_counts_ratings[genre_counts_ratings.counts >= 10].reset_index(drop=True)\n",
    "genre_counts_ratings"
   ]
  },
  {
   "cell_type": "code",
   "execution_count": 92,
   "metadata": {},
   "outputs": [
    {
     "data": {
      "image/png": "[encoded data removed]",
      "text/plain": [
       "<Figure size 720x432 with 1 Axes>"
      ]
     },
     "metadata": {
      "needs_background": "light"
     },
     "output_type": "display_data"
    }
   ],
   "source": [
    "fig, ax = plt.subplots(figsize=(10, 6))\n",
    "sns.set_palette('husl')\n",
    "sns.barplot(data=genre_counts_ratings, x='genres', y='rating')\n",
    "plt.xticks(rotation=40)\n",
    "ax.set_xlabel('Genres')\n",
    "ax.set_ylabel('Rating')\n",
    "ax.set_title('Average Genre Ratings for 2017-2019 Top Selling Games on Steam')\n",
    "plt.show()"
   ]
  },
  {
   "cell_type": "code",
   "execution_count": 10,
   "metadata": {},
   "outputs": [
    {
     "name": "stdout",
     "output_type": "stream",
     "text": [
      "The average genre rating is: 81.92232108158136\n"
     ]
    }
   ],
   "source": [
    "print(\"The average genre rating is: {0}\".format(genre_counts_ratings.rating.mean()))"
   ]
  },
  {
   "cell_type": "markdown",
   "metadata": {},
   "source": [
    "The \"Indie\" genre is the highest, with an amazing average rating of 91.1, which is almost 10 points higher than the average of 81.9.\n",
    "\n",
    "We now know that indie games can be successful, and are rated on average much better than AAA developer games or other genres, are they becoming more popular and increasing their hold on the market?"
   ]
  },
  {
   "cell_type": "code",
   "execution_count": 11,
   "metadata": {},
   "outputs": [
    {
     "data": {
      "text/html": [
       "<div>\n",
       "<style scoped>\n",
       "    .dataframe tbody tr th:only-of-type {\n",
       "        vertical-align: middle;\n",
       "    }\n",
       "\n",
       "    .dataframe tbody tr th {\n",
       "        vertical-align: top;\n",
       "    }\n",
       "\n",
       "    .dataframe thead th {\n",
       "        text-align: right;\n",
       "    }\n",
       "</style>\n",
       "<table border=\"1\" class=\"dataframe\">\n",
       "  <thead>\n",
       "    <tr style=\"text-align: right;\">\n",
       "      <th></th>\n",
       "      <th>year</th>\n",
       "      <th>is_indie</th>\n",
       "      <th>counts</th>\n",
       "      <th>year_counts</th>\n",
       "      <th>percentage</th>\n",
       "    </tr>\n",
       "  </thead>\n",
       "  <tbody>\n",
       "    <tr>\n",
       "      <th>0</th>\n",
       "      <td>2017</td>\n",
       "      <td>False</td>\n",
       "      <td>71</td>\n",
       "      <td>99</td>\n",
       "      <td>0.717172</td>\n",
       "    </tr>\n",
       "    <tr>\n",
       "      <th>1</th>\n",
       "      <td>2017</td>\n",
       "      <td>True</td>\n",
       "      <td>28</td>\n",
       "      <td>99</td>\n",
       "      <td>0.282828</td>\n",
       "    </tr>\n",
       "    <tr>\n",
       "      <th>2</th>\n",
       "      <td>2018</td>\n",
       "      <td>False</td>\n",
       "      <td>73</td>\n",
       "      <td>100</td>\n",
       "      <td>0.730000</td>\n",
       "    </tr>\n",
       "    <tr>\n",
       "      <th>3</th>\n",
       "      <td>2018</td>\n",
       "      <td>True</td>\n",
       "      <td>27</td>\n",
       "      <td>100</td>\n",
       "      <td>0.270000</td>\n",
       "    </tr>\n",
       "    <tr>\n",
       "      <th>4</th>\n",
       "      <td>2019</td>\n",
       "      <td>False</td>\n",
       "      <td>71</td>\n",
       "      <td>100</td>\n",
       "      <td>0.710000</td>\n",
       "    </tr>\n",
       "    <tr>\n",
       "      <th>5</th>\n",
       "      <td>2019</td>\n",
       "      <td>True</td>\n",
       "      <td>29</td>\n",
       "      <td>100</td>\n",
       "      <td>0.290000</td>\n",
       "    </tr>\n",
       "  </tbody>\n",
       "</table>\n",
       "</div>"
      ],
      "text/plain": [
       "   year  is_indie  counts  year_counts  percentage\n",
       "0  2017     False      71           99    0.717172\n",
       "1  2017      True      28           99    0.282828\n",
       "2  2018     False      73          100    0.730000\n",
       "3  2018      True      27          100    0.270000\n",
       "4  2019     False      71          100    0.710000\n",
       "5  2019      True      29          100    0.290000"
      ]
     },
     "execution_count": 11,
     "metadata": {},
     "output_type": "execute_result"
    }
   ],
   "source": [
    "indie_counts = df.groupby(['year', 'is_indie']).title.count().reset_index().rename(columns={'title': 'counts'})\n",
    "year_counts = df.groupby('year').title.count().reset_index().rename(columns={'title': 'year_counts'})\n",
    "indie_year_counts = pd.merge(indie_counts, year_counts)\n",
    "indie_year_counts['percentage'] = indie_year_counts.counts / indie_year_counts.year_counts\n",
    "indie_year_counts"
   ]
  },
  {
   "cell_type": "code",
   "execution_count": 102,
   "metadata": {},
   "outputs": [
    {
     "data": {
      "image/png": "[encoded data removed]",
      "text/plain": [
       "<Figure size 576x288 with 1 Axes>"
      ]
     },
     "metadata": {
      "needs_background": "light"
     },
     "output_type": "display_data"
    }
   ],
   "source": [
    "fig, ax = plt.subplots(figsize=(8, 4))\n",
    "sns.set_palette('Set1')\n",
    "sns.lineplot(data=indie_year_counts, x='year', y='percentage', hue='is_indie')\n",
    "ax.set_xticks([2017, 2018, 2019])\n",
    "ax.legend(['AAA', 'Indie'])\n",
    "ax.set_xlabel('Year')\n",
    "ax.set_ylabel('Percentage')\n",
    "ax.set_title('Developers for Top Selling Games on Steam From 2017-2019')\n",
    "plt.show()"
   ]
  },
  {
   "cell_type": "markdown",
   "metadata": {},
   "source": [
    "Doesn't look like much has changed, let's run a chi squared test to check."
   ]
  },
  {
   "cell_type": "code",
   "execution_count": 13,
   "metadata": {},
   "outputs": [
    {
     "name": "stdout",
     "output_type": "stream",
     "text": [
      "The p-value is 0.9504560943428806\n"
     ]
    }
   ],
   "source": [
    "X = [[71, 28],\n",
    "     [73, 27],\n",
    "     [71, 29]]\n",
    "\n",
    "chi2, pval, dof, expected = stats.chi2_contingency(X)\n",
    "print(\"The p-value is {0}\".format(pval))"
   ]
  },
  {
   "cell_type": "markdown",
   "metadata": {},
   "source": [
    "With a p-value of 0.95, we cannot reject the null hypothesis that there is no significant difference between the datasets.\n",
    "\n",
    "Does not appear that more indie games are increasing their hold on the top 100 selling games on Steam. Could a reason be because they make less than AAA games? Maybe not since that should be expected, but let's see."
   ]
  },
  {
   "cell_type": "code",
   "execution_count": 103,
   "metadata": {},
   "outputs": [
    {
     "data": {
      "image/png": "[encoded data removed]",
      "text/plain": [
       "<Figure size 720x288 with 1 Axes>"
      ]
     },
     "metadata": {
      "needs_background": "light"
     },
     "output_type": "display_data"
    }
   ],
   "source": [
    "indie_games = df[df.is_indie == True]\n",
    "AAA_games = df[df.is_indie == False]\n",
    "\n",
    "fig, ax = plt.subplots(figsize=(10, 4))\n",
    "sns.set_palette('Paired')\n",
    "sns.barplot(data=df, x='ranking', y='rating', hue='is_indie', estimator=len)\n",
    "ax.set_xlabel('Ranking')\n",
    "ax.set_ylabel('Count')\n",
    "ax.set_title('Top Selling Games on Steam From 2017-2019')\n",
    "h, l = ax.get_legend_handles_labels()\n",
    "ax.legend(h, ['AAA', 'Indie'], title=\"Developer\")\n",
    "plt.show()"
   ]
  },
  {
   "cell_type": "markdown",
   "metadata": {},
   "source": [
    "Indie games make up a very small portion of top tier games (\"Platinum\" and \"Gold\") and thus generally make less than their AAA counterparts. However this makes sense due to the lower financial support they receive.\n",
    "\n",
    "Lastly, let's see if indie developers focus on different genres than AAA developers. (\"Indie\" genre exluded from analysis)"
   ]
  },
  {
   "cell_type": "code",
   "execution_count": 343,
   "metadata": {},
   "outputs": [
    {
     "data": {
      "text/html": [
       "<div>\n",
       "<style scoped>\n",
       "    .dataframe tbody tr th:only-of-type {\n",
       "        vertical-align: middle;\n",
       "    }\n",
       "\n",
       "    .dataframe tbody tr th {\n",
       "        vertical-align: top;\n",
       "    }\n",
       "\n",
       "    .dataframe thead th {\n",
       "        text-align: right;\n",
       "    }\n",
       "</style>\n",
       "<table border=\"1\" class=\"dataframe\">\n",
       "  <thead>\n",
       "    <tr style=\"text-align: right;\">\n",
       "      <th></th>\n",
       "      <th>is_indie</th>\n",
       "      <th>genres</th>\n",
       "      <th>counts</th>\n",
       "    </tr>\n",
       "  </thead>\n",
       "  <tbody>\n",
       "    <tr>\n",
       "      <th>0</th>\n",
       "      <td>False</td>\n",
       "      <td>Action</td>\n",
       "      <td>134</td>\n",
       "    </tr>\n",
       "    <tr>\n",
       "      <th>9</th>\n",
       "      <td>False</td>\n",
       "      <td>Strategy</td>\n",
       "      <td>64</td>\n",
       "    </tr>\n",
       "    <tr>\n",
       "      <th>7</th>\n",
       "      <td>False</td>\n",
       "      <td>Simulation</td>\n",
       "      <td>59</td>\n",
       "    </tr>\n",
       "    <tr>\n",
       "      <th>5</th>\n",
       "      <td>False</td>\n",
       "      <td>RPG</td>\n",
       "      <td>56</td>\n",
       "    </tr>\n",
       "    <tr>\n",
       "      <th>1</th>\n",
       "      <td>False</td>\n",
       "      <td>Adventure</td>\n",
       "      <td>54</td>\n",
       "    </tr>\n",
       "    <tr>\n",
       "      <th>3</th>\n",
       "      <td>False</td>\n",
       "      <td>Free to Play</td>\n",
       "      <td>31</td>\n",
       "    </tr>\n",
       "    <tr>\n",
       "      <th>4</th>\n",
       "      <td>False</td>\n",
       "      <td>Massively Multiplayer</td>\n",
       "      <td>25</td>\n",
       "    </tr>\n",
       "    <tr>\n",
       "      <th>8</th>\n",
       "      <td>False</td>\n",
       "      <td>Sports</td>\n",
       "      <td>12</td>\n",
       "    </tr>\n",
       "    <tr>\n",
       "      <th>2</th>\n",
       "      <td>False</td>\n",
       "      <td>Casual</td>\n",
       "      <td>1</td>\n",
       "    </tr>\n",
       "    <tr>\n",
       "      <th>6</th>\n",
       "      <td>False</td>\n",
       "      <td>Racing</td>\n",
       "      <td>1</td>\n",
       "    </tr>\n",
       "    <tr>\n",
       "      <th>10</th>\n",
       "      <td>True</td>\n",
       "      <td>Action</td>\n",
       "      <td>40</td>\n",
       "    </tr>\n",
       "    <tr>\n",
       "      <th>11</th>\n",
       "      <td>True</td>\n",
       "      <td>Adventure</td>\n",
       "      <td>40</td>\n",
       "    </tr>\n",
       "    <tr>\n",
       "      <th>20</th>\n",
       "      <td>True</td>\n",
       "      <td>Simulation</td>\n",
       "      <td>32</td>\n",
       "    </tr>\n",
       "    <tr>\n",
       "      <th>18</th>\n",
       "      <td>True</td>\n",
       "      <td>RPG</td>\n",
       "      <td>26</td>\n",
       "    </tr>\n",
       "    <tr>\n",
       "      <th>22</th>\n",
       "      <td>True</td>\n",
       "      <td>Strategy</td>\n",
       "      <td>18</td>\n",
       "    </tr>\n",
       "    <tr>\n",
       "      <th>17</th>\n",
       "      <td>True</td>\n",
       "      <td>Massively Multiplayer</td>\n",
       "      <td>11</td>\n",
       "    </tr>\n",
       "    <tr>\n",
       "      <th>15</th>\n",
       "      <td>True</td>\n",
       "      <td>Early Access</td>\n",
       "      <td>10</td>\n",
       "    </tr>\n",
       "    <tr>\n",
       "      <th>13</th>\n",
       "      <td>True</td>\n",
       "      <td>Casual</td>\n",
       "      <td>3</td>\n",
       "    </tr>\n",
       "    <tr>\n",
       "      <th>16</th>\n",
       "      <td>True</td>\n",
       "      <td>Free to Play</td>\n",
       "      <td>3</td>\n",
       "    </tr>\n",
       "    <tr>\n",
       "      <th>19</th>\n",
       "      <td>True</td>\n",
       "      <td>Racing</td>\n",
       "      <td>3</td>\n",
       "    </tr>\n",
       "    <tr>\n",
       "      <th>21</th>\n",
       "      <td>True</td>\n",
       "      <td>Sports</td>\n",
       "      <td>3</td>\n",
       "    </tr>\n",
       "    <tr>\n",
       "      <th>12</th>\n",
       "      <td>True</td>\n",
       "      <td>Animation &amp; Modeling</td>\n",
       "      <td>2</td>\n",
       "    </tr>\n",
       "    <tr>\n",
       "      <th>14</th>\n",
       "      <td>True</td>\n",
       "      <td>Design &amp; Illustration</td>\n",
       "      <td>2</td>\n",
       "    </tr>\n",
       "    <tr>\n",
       "      <th>23</th>\n",
       "      <td>True</td>\n",
       "      <td>Utilities</td>\n",
       "      <td>2</td>\n",
       "    </tr>\n",
       "  </tbody>\n",
       "</table>\n",
       "</div>"
      ],
      "text/plain": [
       "    is_indie                 genres  counts\n",
       "0      False                 Action     134\n",
       "9      False               Strategy      64\n",
       "7      False             Simulation      59\n",
       "5      False                    RPG      56\n",
       "1      False              Adventure      54\n",
       "3      False           Free to Play      31\n",
       "4      False  Massively Multiplayer      25\n",
       "8      False                 Sports      12\n",
       "2      False                 Casual       1\n",
       "6      False                 Racing       1\n",
       "10      True                 Action      40\n",
       "11      True              Adventure      40\n",
       "20      True             Simulation      32\n",
       "18      True                    RPG      26\n",
       "22      True               Strategy      18\n",
       "17      True  Massively Multiplayer      11\n",
       "15      True           Early Access      10\n",
       "13      True                 Casual       3\n",
       "16      True           Free to Play       3\n",
       "19      True                 Racing       3\n",
       "21      True                 Sports       3\n",
       "12      True   Animation & Modeling       2\n",
       "14      True  Design & Illustration       2\n",
       "23      True              Utilities       2"
      ]
     },
     "execution_count": 343,
     "metadata": {},
     "output_type": "execute_result"
    }
   ],
   "source": [
    "genre_explode = df.explode('genres')\n",
    "genre_explode_no_indie = genre_explode[genre_explode.genres != 'Indie']\n",
    "dev_genre_counts = genre_explode_no_indie.groupby(['is_indie', 'genres']).title.count().reset_index()\\\n",
    "                                         .rename(columns={'title': 'counts'})\\\n",
    "                                         .sort_values(by=['is_indie', 'counts'], ascending=[True, False])\n",
    "AAA_genre_counts = dev_genre_counts[dev_genre_counts.is_indie == False]\n",
    "indie_genre_counts = dev_genre_counts[dev_genre_counts.is_indie == True]\n",
    "dev_genre_counts"
   ]
  },
  {
   "cell_type": "code",
   "execution_count": 349,
   "metadata": {},
   "outputs": [
    {
     "data": {
      "image/png": "[encoded data removed]",
      "text/plain": [
       "<Figure size 576x288 with 2 Axes>"
      ]
     },
     "metadata": {},
     "output_type": "display_data"
    }
   ],
   "source": [
    "fig, [ax1, ax2] = plt.subplots(1, 2, figsize=(8, 4))\n",
    "fig.suptitle('Genres of Top Selling Games on Steam From 2017-2019', y=1.05)\n",
    "\n",
    "percentage1 = 100 * np.array(AAA_genre_counts.counts) / sum(np.array(AAA_genre_counts.counts))\n",
    "label1 = ['{0}: {1:0.1f}%'.format(a, b) for (a, b) in zip(AAA_genre_counts.genres, percentage1)]\n",
    "ax1.pie(AAA_genre_counts.counts, shadow=True)\n",
    "ax1.legend(label1, bbox_to_anchor=(0, 1))\n",
    "ax1.set_title('AAA Developers')\n",
    "ax1.axis('equal')\n",
    "\n",
    "percentage2 = 100 * np.array(indie_genre_counts.counts) / sum(np.array(indie_genre_counts.counts))\n",
    "label2 = ['{0}: {1:0.1f}%'.format(a, b) for (a, b) in zip(indie_genre_counts.genres, percentage2)]\n",
    "ax2.pie(indie_genre_counts.counts, shadow=True)\n",
    "ax2.legend(label2, bbox_to_anchor=(1, 1))\n",
    "ax2.set_title('Indie Developers')\n",
    "ax2.axis('equal')\n",
    "\n",
    "plt.show()"
   ]
  }
 ],
 "metadata": {
  "kernelspec": {
   "display_name": "Python 3",
   "language": "python",
   "name": "python3"
  },
  "language_info": {
   "codemirror_mode": {
    "name": "ipython",
    "version": 3
   },
   "file_extension": ".py",
   "mimetype": "text/x-python",
   "name": "python",
   "nbconvert_exporter": "python",
   "pygments_lexer": "ipython3",
   "version": "3.7.3"
  }
 },
 "nbformat": 4,
 "nbformat_minor": 2
}
